{
 "cells": [
  {
   "cell_type": "markdown",
   "id": "bf9b8e75",
   "metadata": {},
   "source": [
    "# Building an Agentic RAG System with ArXiv Knowledge Base\n",
    "\n",
    "This tutorial demonstrates how to create an intelligent agent that can search and reason over academic papers from ArXiv. Unlike basic RAG, agentic RAG adds reasoning capabilities, allowing the agent to understand context and provide more sophisticated responses.\n",
    "\n",
    "**What you'll learn:**\n",
    "- Setting up Agno agents with knowledge bases\n",
    "- Integrating ArXiv for academic paper retrieval  \n",
    "- Using PostgreSQL vector database for persistent storage\n",
    "- Building conversational AI with domain expertise"
   ]
  },
  {
   "cell_type": "markdown",
   "id": "6bdc7247",
   "metadata": {},
   "source": [
    "## Step 1: Import Agno Framework Components\n",
    "\n",
    "Setting up the core components for our agentic system:\n",
    "- **Agent**: The main reasoning engine that orchestrates responses\n",
    "- **OpenAIChat**: Language model for understanding and generating responses  \n",
    "- **ArxivKnowledgeBase**: Specialized knowledge source for academic papers\n",
    "- **PgVector**: PostgreSQL extension for storing and searching vector embeddings"
   ]
  },
  {
   "cell_type": "code",
   "execution_count": null,
   "id": "b0dd9a66-b9e1-429a-975f-be4e3431a124",
   "metadata": {},
   "outputs": [],
   "source": [
    "# Import core Agno framework components for agentic RAG\n",
    "from dotenv import load_dotenv                    # Environment variable management\n",
    "import os\n",
    "from agno.models.openai import OpenAIChat        # OpenAI language model integration\n",
    "from agno.agent import Agent                     # Main agent orchestrator\n",
    "from agno.knowledge.arxiv import ArxivKnowledgeBase  # ArXiv paper knowledge source\n",
    "from agno.vectordb.pgvector import PgVector      # PostgreSQL vector database"
   ]
  },
  {
   "cell_type": "markdown",
   "id": "441ab165",
   "metadata": {},
   "source": [
    "## Step 2: API Key Configuration\n",
    "\n",
    "Setting up OpenAI API access for the language model. The agent uses OpenAI's models to:\n",
    "- Understand natural language queries\n",
    "- Reason over retrieved information\n",
    "- Generate coherent responses\n",
    "Ensure your `.env` file contains a valid `OPENAI_API_KEY`."
   ]
  },
  {
   "cell_type": "code",
   "execution_count": null,
   "id": "f844b1db-77bc-4e11-811d-92c0dc8102e0",
   "metadata": {},
   "outputs": [],
   "source": [
    "# Load and configure OpenAI API key for language model access\n",
    "load_dotenv()\n",
    "api_key = os.getenv(\"OPENAI_API_KEY\")\n",
    "if not api_key:\n",
    "    raise ValueError(\"OPENAI_API_KEY not set in .env!\")\n",
    "os.environ[\"OPENAI_API_KEY\"] = api_key"
   ]
  },
  {
   "cell_type": "markdown",
   "id": "73f4145b",
   "metadata": {},
   "source": [
    "## Step 3: Knowledge Base Configuration\n",
    "\n",
    "Creating a specialized ArXiv knowledge base that automatically:\n",
    "- **Searches**: Finds papers using specified query terms\n",
    "- **Downloads**: Retrieves full paper content from ArXiv API\n",
    "- **Processes**: Extracts and chunks text for optimal retrieval\n",
    "- **Stores**: Saves vectors in PostgreSQL for persistent access\n",
    "\n",
    "The `recreate=False` parameter ensures we don't re-download existing papers."
   ]
  },
  {
   "cell_type": "code",
   "execution_count": null,
   "id": "fe903716-fe90-4f64-9e0b-2b4593dee9e6",
   "metadata": {},
   "outputs": [
    {
     "data": {
      "text/html": [
       "<pre style=\"white-space:pre;overflow-x:auto;line-height:normal;font-family:Menlo,'DejaVu Sans Mono',consolas,'Courier New',monospace\"><span style=\"color: #000080; text-decoration-color: #000080\">INFO</span> Embedder not provided, using OpenAIEmbedder as default.                                                       \n",
       "</pre>\n"
      ],
      "text/plain": [
       "\u001b[34mINFO\u001b[0m Embedder not provided, using OpenAIEmbedder as default.                                                       \n"
      ]
     },
     "metadata": {},
     "output_type": "display_data"
    }
   ],
   "source": [
    "# Configure ArXiv knowledge base with target research areas\n",
    "knowledge_base = ArxivKnowledgeBase(\n",
    "    queries=[\"Generative AI\", \"Machine Learning\"],  # Topics to search for\n",
    "    vector_db=PgVector(\n",
    "        table_name=\"arxiv_documents\",  # Database table for paper storage\n",
    "        db_url=\"postgresql+psycopg://ai:ai@localhost:5432/ai\",  # PostgreSQL connection\n",
    "    ),\n",
    ")"
   ]
  },
  {
   "cell_type": "markdown",
   "id": "e10e9937",
   "metadata": {},
   "source": [
    "## Step 4: Agent Initialization\n",
    "\n",
    "Creating an intelligent agent that combines reasoning with knowledge retrieval:\n",
    "- **knowledge**: Connects to our ArXiv knowledge base\n",
    "- **search_knowledge=True**: Enables automatic knowledge search for queries\n",
    "The agent will automatically search the knowledge base when needed to answer questions."
   ]
  },
  {
   "cell_type": "code",
   "execution_count": null,
   "id": "9ea4e115-864a-44fa-806a-b163285b5ffa",
   "metadata": {},
   "outputs": [],
   "source": [
    "# Initialize agent with knowledge-enabled capabilities\n",
    "agent = Agent(\n",
    "    knowledge=knowledge_base,      # Connect to ArXiv knowledge base\n",
    "    search_knowledge=True,         # Enable automatic knowledge search\n",
    ")"
   ]
  },
  {
   "cell_type": "markdown",
   "id": "7a4c3af4",
   "metadata": {},
   "source": [
    "## Step 5: Knowledge Base Population\n",
    "\n",
    "Loading papers into our vector database. This process:\n",
    "- Downloads recent papers matching our query terms\n",
    "- Extracts text content and metadata\n",
    "- Creates embeddings for semantic search\n",
    "- Stores everything in PostgreSQL for persistence\n",
    "\n",
    "The `recreate=False` parameter prevents re-downloading existing papers, making subsequent runs faster."
   ]
  },
  {
   "cell_type": "code",
   "execution_count": null,
   "id": "6d18072c-ebdc-4b42-b27f-fa97636c0e07",
   "metadata": {},
   "outputs": [
    {
     "data": {
      "text/html": [
       "<pre style=\"white-space:pre;overflow-x:auto;line-height:normal;font-family:Menlo,'DejaVu Sans Mono',consolas,'Courier New',monospace\"><span style=\"color: #000080; text-decoration-color: #000080\">INFO</span> Loading knowledge base                                                                                        \n",
       "</pre>\n"
      ],
      "text/plain": [
       "\u001b[34mINFO\u001b[0m Loading knowledge base                                                                                        \n"
      ]
     },
     "metadata": {},
     "output_type": "display_data"
    },
    {
     "data": {
      "text/html": [
       "<pre style=\"white-space:pre;overflow-x:auto;line-height:normal;font-family:Menlo,'DejaVu Sans Mono',consolas,'Courier New',monospace\"><span style=\"color: #000080; text-decoration-color: #000080\">INFO</span> Skipped <span style=\"color: #008080; text-decoration-color: #008080; font-weight: bold\">5</span> existing/duplicate documents.                                                                       \n",
       "</pre>\n"
      ],
      "text/plain": [
       "\u001b[34mINFO\u001b[0m Skipped \u001b[1;36m5\u001b[0m existing/duplicate documents.                                                                       \n"
      ]
     },
     "metadata": {},
     "output_type": "display_data"
    },
    {
     "data": {
      "text/html": [
       "<pre style=\"white-space:pre;overflow-x:auto;line-height:normal;font-family:Menlo,'DejaVu Sans Mono',consolas,'Courier New',monospace\"><span style=\"color: #000080; text-decoration-color: #000080\">INFO</span> Added <span style=\"color: #008080; text-decoration-color: #008080; font-weight: bold\">0</span> documents to knowledge base                                                                           \n",
       "</pre>\n"
      ],
      "text/plain": [
       "\u001b[34mINFO\u001b[0m Added \u001b[1;36m0\u001b[0m documents to knowledge base                                                                           \n"
      ]
     },
     "metadata": {},
     "output_type": "display_data"
    },
    {
     "data": {
      "text/html": [
       "<pre style=\"white-space:pre;overflow-x:auto;line-height:normal;font-family:Menlo,'DejaVu Sans Mono',consolas,'Courier New',monospace\"><span style=\"color: #000080; text-decoration-color: #000080\">INFO</span> Skipped <span style=\"color: #008080; text-decoration-color: #008080; font-weight: bold\">5</span> existing/duplicate documents.                                                                       \n",
       "</pre>\n"
      ],
      "text/plain": [
       "\u001b[34mINFO\u001b[0m Skipped \u001b[1;36m5\u001b[0m existing/duplicate documents.                                                                       \n"
      ]
     },
     "metadata": {},
     "output_type": "display_data"
    },
    {
     "data": {
      "text/html": [
       "<pre style=\"white-space:pre;overflow-x:auto;line-height:normal;font-family:Menlo,'DejaVu Sans Mono',consolas,'Courier New',monospace\"><span style=\"color: #000080; text-decoration-color: #000080\">INFO</span> Added <span style=\"color: #008080; text-decoration-color: #008080; font-weight: bold\">0</span> documents to knowledge base                                                                           \n",
       "</pre>\n"
      ],
      "text/plain": [
       "\u001b[34mINFO\u001b[0m Added \u001b[1;36m0\u001b[0m documents to knowledge base                                                                           \n"
      ]
     },
     "metadata": {},
     "output_type": "display_data"
    }
   ],
   "source": [
    "# Populate the knowledge base with ArXiv papers\n",
    "# This downloads papers, creates embeddings, and stores them\n",
    "agent.knowledge.load(recreate=False)  # Use existing data if available"
   ]
  },
  {
   "cell_type": "markdown",
   "id": "2f3c9857",
   "metadata": {},
   "source": [
    "## Step 6: Interactive Query System\n",
    "\n",
    "Testing our agentic RAG system with user questions. The agent will:\n",
    "1. Understand the natural language query\n",
    "2. Search the ArXiv knowledge base for relevant papers\n",
    "3. Synthesize information from multiple sources\n",
    "4. Generate a comprehensive, contextual response\n",
    "\n",
    "Try queries like: \"latest trends in generative AI\" or \"most influential papers in machine learning\"."
   ]
  },
  {
   "cell_type": "code",
   "execution_count": null,
   "id": "ab016b6e-a85b-4bbe-bd2f-554401080aaa",
   "metadata": {},
   "outputs": [
    {
     "name": "stdout",
     "output_type": "stream",
     "text": [
      "\n",
      " Ask a question from the knowledge base:  latest paper in generative ai\n"
     ]
    },
    {
     "data": {
      "text/html": [
       "<pre style=\"white-space:pre;overflow-x:auto;line-height:normal;font-family:Menlo,'DejaVu Sans Mono',consolas,'Courier New',monospace\"><span style=\"color: #000080; text-decoration-color: #000080\">INFO</span> Setting default model to OpenAI Chat                                                                          \n",
       "</pre>\n"
      ],
      "text/plain": [
       "\u001b[34mINFO\u001b[0m Setting default model to OpenAI Chat                                                                          \n"
      ]
     },
     "metadata": {},
     "output_type": "display_data"
    },
    {
     "data": {
      "application/vnd.jupyter.widget-view+json": {
       "model_id": "5440cc9ec3704e1ba30185b182ffd314",
       "version_major": 2,
       "version_minor": 0
      },
      "text/plain": [
       "Output()"
      ]
     },
     "metadata": {},
     "output_type": "display_data"
    },
    {
     "data": {
      "text/html": [
       "<pre style=\"white-space:pre;overflow-x:auto;line-height:normal;font-family:Menlo,'DejaVu Sans Mono',consolas,'Courier New',monospace\"><span style=\"color: #000080; text-decoration-color: #000080\">INFO</span> Found <span style=\"color: #008080; text-decoration-color: #008080; font-weight: bold\">5</span> documents                                                                                             \n",
       "</pre>\n"
      ],
      "text/plain": [
       "\u001b[34mINFO\u001b[0m Found \u001b[1;36m5\u001b[0m documents                                                                                             \n"
      ]
     },
     "metadata": {},
     "output_type": "display_data"
    },
    {
     "data": {
      "text/html": [
       "<pre style=\"white-space:pre;overflow-x:auto;line-height:normal;font-family:Menlo,'DejaVu Sans Mono',consolas,'Courier New',monospace\"></pre>\n"
      ],
      "text/plain": []
     },
     "metadata": {},
     "output_type": "display_data"
    }
   ],
   "source": [
    "# Interactive query system - ask questions about the knowledge base\n",
    "user_question = input(\"\\n Ask a question from the knowledge base: \")\n",
    "\n",
    "# Generate intelligent response using retrieved knowledge\n",
    "agent.print_response(user_question, user_id=\"user_1\", stream=True)\n",
    "\n",
    "# Example queries to try:\n",
    "# \"What are the latest trends in generative AI?\"\n",
    "# \"What are the most influential papers in machine learning?\"\n",
    "# \"How do transformers work in natural language processing?\""
   ]
  },
  {
   "cell_type": "code",
   "execution_count": null,
   "id": "281c2ed7-ac8e-478e-9146-72896457b654",
   "metadata": {},
   "outputs": [],
   "source": []
  }
 ],
 "metadata": {
  "kernelspec": {
   "display_name": "Python 3",
   "language": "python",
   "name": "python3"
  },
  "language_info": {
   "codemirror_mode": {
    "name": "ipython",
    "version": 3
   },
   "file_extension": ".py",
   "mimetype": "text/x-python",
   "name": "python",
   "nbconvert_exporter": "python",
   "pygments_lexer": "ipython3",
   "version": "3.13.2"
  }
 },
 "nbformat": 4,
 "nbformat_minor": 5
}
